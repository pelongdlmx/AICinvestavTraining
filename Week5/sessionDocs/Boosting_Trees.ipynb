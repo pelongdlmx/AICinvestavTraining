{
 "cells": [
  {
   "cell_type": "markdown",
   "id": "dacb6a72-66d8-4686-b2e9-9003b9a0e38a",
   "metadata": {},
   "source": [
    "# Boosting Trees"
   ]
  },
  {
   "cell_type": "code",
   "execution_count": 18,
   "id": "0eed3836-cd7f-46a2-84fa-d5e09ce788dc",
   "metadata": {},
   "outputs": [],
   "source": [
    "import numpy as np\n",
    "from collections import namedtuple\n",
    "from sklearn.metrics import roc_curve, auc"
   ]
  },
  {
   "cell_type": "markdown",
   "id": "80377cd8-1147-43ac-bd30-e8495c222def",
   "metadata": {},
   "source": [
    "# Load Basic Packages"
   ]
  },
  {
   "cell_type": "code",
   "execution_count": 2,
   "id": "daa64913-a805-42cc-a140-1472486f9c72",
   "metadata": {},
   "outputs": [],
   "source": [
    "import numpy as np\n",
    "from collections import namedtuple"
   ]
  },
  {
   "cell_type": "markdown",
   "id": "f50e0a81-0060-41ba-bfcb-e4efb3c7cd28",
   "metadata": {},
   "source": [
    "# Why build them from scratch?\n",
    "+ Learning how the algorithm really works\n",
    "+ Full control over every design choice – regularization, learning‑rate, leaf‑value calculation, etc.\n",
    "+ No dependencies on black‑box libraries"
   ]
  },
  {
   "cell_type": "markdown",
   "id": "08756ad0-ff78-4f3d-9f97-e0853fdb7c82",
   "metadata": {},
   "source": [
    "# Gradient Boosting – Theory\n",
    "\n",
    "---\n",
    "\n",
    "## 1.  Additive Modelling\n",
    "\n",
    "Gradient boosting constructs an **additive model**\n",
    "\n",
    "$$\n",
    "\\hat{y}(x)=\\sum_{k=1}^{K}\\nu\\,f_{k}(x),\n",
    "$$\n",
    "\n",
    "* \\(f_{k}\\) – the \\(k^{\\text{th}}\\) weak learner (usually a decision tree).  \n",
    "* \\(\\nu\\in(0,1]\\) – learning‑rate (shrinkage).  \n",
    "* The goal is to minimise a differentiable loss function  \n",
    "  \\(L(y,F(x))\\) where \\(F(x)=\\sum_{k} \\nu f_k(x)\\).\n",
    "\n",
    "---\n",
    "\n",
    "## 2.  Stage‑wise (Gradient) Boosting\n",
    "\n",
    "At iteration \\(m\\):\n",
    "\n",
    "1. **Compute negative gradients (pseudo‑residuals)**  \n",
    "\n",
    "   $$ \n",
    "   r_{im}= -\\left.\\frac{\\partial L(y_i,F(x_i))}{\\partial F(x_i)}\\right|_{F=F_{m-1}}, \\qquad i=1,\\dots,n .\n",
    "   $$\n",
    "\n",
    "2. **Fit a regression tree \\(h_m(x)\\) to \\(\\{(x_i,r_{im})\\}\\)** – the tree learns to predict the residual direction and magnitude.\n",
    "\n",
    "3. **Update the ensemble**  \n",
    "\n",
    "   $$\n",
    "   F_m(x)=F_{m-1}(x)+\\nu\\,h_m(x).\n",
    "   $$\n",
    "\n",
    "The algorithm stops after a fixed number of trees or when the improvement falls below a threshold.\n",
    "\n",
    "---\n"
   ]
  },
  {
   "cell_type": "markdown",
   "id": "24702f27-ffb3-486c-afea-a65075def592",
   "metadata": {},
   "source": [
    "# Class for the tree Node"
   ]
  },
  {
   "cell_type": "code",
   "execution_count": 3,
   "id": "0b0a2ce0-2f76-41c8-9a85-97efa20c227b",
   "metadata": {},
   "outputs": [],
   "source": [
    "class TreeNode:\n",
    "    def __init__(self, depth=0):\n",
    "        self.left = None          # left child\n",
    "        self.right = None         # right child\n",
    "        self.feature_index = None\n",
    "        self.threshold = None\n",
    "        self.value = None         # leaf value\n",
    "        self.depth = depth"
   ]
  },
  {
   "cell_type": "markdown",
   "id": "2b57e529-c837-49f2-8639-94dc21374c5b",
   "metadata": {},
   "source": [
    "# Find best split for a single feature"
   ]
  },
  {
   "cell_type": "code",
   "execution_count": 4,
   "id": "25231b44-6d25-406d-a9a6-82f4e5ffff5e",
   "metadata": {},
   "outputs": [],
   "source": [
    "def _best_split_for_feature(X, residuals, feature_index, min_samples_leaf):\n",
    "    \"\"\"\n",
    "    X        : 2D array (n_samples, n_features)\n",
    "    residuals: 1D array (n_samples,)\n",
    "    Returns (threshold, reduction_in_error) or (None, 0)\n",
    "    \"\"\"\n",
    "    # sort samples by feature value\n",
    "    sorted_idx = np.argsort(X[:, feature_index])\n",
    "    X_sorted = X[sorted_idx, feature_index]\n",
    "    r_sorted = residuals[sorted_idx]\n",
    "\n",
    "    # Precompute cumulative sums for fast mean calculation\n",
    "    cum_sum = np.cumsum(r_sorted)\n",
    "    cum_sq = np.cumsum(r_sorted ** 2)\n",
    "\n",
    "    N = len(r_sorted)\n",
    "    best_reduction = -np.inf\n",
    "    best_thresh = None\n",
    "\n",
    "    # iterate over possible split points\n",
    "    for i in range(min_samples_leaf, N - min_samples_leaf):\n",
    "        # left side: samples 0..i\n",
    "        N_left = i + 1\n",
    "        sum_left = cum_sum[i]\n",
    "        sq_left = cum_sq[i]\n",
    "        mean_left = sum_left / N_left\n",
    "        err_left = sq_left - 2 * mean_left * sum_left + N_left * mean_left ** 2\n",
    "\n",
    "        # right side: samples i+1..N-1\n",
    "        N_right = N - N_left\n",
    "        sum_right = cum_sum[-1] - sum_left\n",
    "        sq_right = cum_sq[-1] - sq_left\n",
    "        mean_right = sum_right / N_right\n",
    "        err_right = sq_right - 2 * mean_right * sum_right + N_right * mean_right ** 2\n",
    "\n",
    "        # Total impurity after split\n",
    "        err_total = err_left + err_right\n",
    "\n",
    "        # Impurity decrease\n",
    "        total_err = cum_sq[-1] - 2 * (cum_sum[-1] ** 2) / N + N * (cum_sum[-1] / N) ** 2\n",
    "        reduction = total_err - err_total\n",
    "\n",
    "        if reduction > best_reduction:\n",
    "            best_reduction = reduction\n",
    "            # split threshold is midpoint between two adjacent feature values\n",
    "            best_thresh = (X_sorted[i] + X_sorted[i + 1]) / 2.0\n",
    "\n",
    "    return best_thresh, best_reduction"
   ]
  },
  {
   "cell_type": "markdown",
   "id": "fc8ea17a-2a56-4126-acf6-25bc52a71038",
   "metadata": {},
   "source": [
    "# Build Tree function on the residuals"
   ]
  },
  {
   "cell_type": "code",
   "execution_count": 5,
   "id": "1306a51e-128d-47b9-9344-82c93d91b889",
   "metadata": {},
   "outputs": [],
   "source": [
    "def _build_tree(X, residuals, depth=0, max_depth=3,\n",
    "                min_samples_leaf=5, min_impurity_decrease=1e-7):\n",
    "    node = TreeNode(depth=depth)\n",
    "\n",
    "    # If we hit stopping criteria, make a leaf\n",
    "    if depth >= max_depth or len(residuals) <= 2 * min_samples_leaf:\n",
    "        node.value = np.mean(residuals)\n",
    "        return node\n",
    "\n",
    "    # Search for best split over all features\n",
    "    best_feature = None\n",
    "    best_thresh = None\n",
    "    best_reduction = -np.inf\n",
    "\n",
    "    for f in range(X.shape[1]):\n",
    "        thresh, reduction = _best_split_for_feature(X, residuals, f, min_samples_leaf)\n",
    "        if reduction > best_reduction:\n",
    "            best_reduction = reduction\n",
    "            best_feature = f\n",
    "            best_thresh = thresh\n",
    "\n",
    "    # If improvement is too small, make leaf\n",
    "    if best_reduction < min_impurity_decrease or best_feature is None:\n",
    "        node.value = np.mean(residuals)\n",
    "        return node\n",
    "\n",
    "    # Otherwise, split\n",
    "    node.feature_index = best_feature\n",
    "    node.threshold = best_thresh\n",
    "\n",
    "    mask_left = X[:, best_feature] <= best_thresh\n",
    "    X_left, X_right = X[mask_left], X[~mask_left]\n",
    "    r_left, r_right = residuals[mask_left], residuals[~mask_left]\n",
    "\n",
    "    node.left = _build_tree(X_left, r_left, depth + 1, max_depth,\n",
    "                            min_samples_leaf, min_impurity_decrease)\n",
    "    node.right = _build_tree(X_right, r_right, depth + 1, max_depth,\n",
    "                             min_samples_leaf, min_impurity_decrease)\n",
    "    return node"
   ]
  },
  {
   "cell_type": "markdown",
   "id": "0a326411-8742-40a0-9282-a911290c51a0",
   "metadata": {},
   "source": [
    "# Predict with a single tree"
   ]
  },
  {
   "cell_type": "code",
   "execution_count": 6,
   "id": "a949a0d5-e636-4b7b-90e4-ab7b28c23b2a",
   "metadata": {},
   "outputs": [],
   "source": [
    "def _predict_tree(node, x):\n",
    "    while node.value is None:  # internal node\n",
    "        if x[node.feature_index] <= node.threshold:\n",
    "            node = node.left\n",
    "        else:\n",
    "            node = node.right\n",
    "    return node.value"
   ]
  },
  {
   "cell_type": "markdown",
   "id": "06c8195c-eb6b-4301-b3ae-36b9cb8b5705",
   "metadata": {},
   "source": [
    "# Boosting Tree Class"
   ]
  },
  {
   "cell_type": "code",
   "execution_count": 7,
   "id": "4b19f8e0-0711-4207-abb8-acbc93236c25",
   "metadata": {},
   "outputs": [],
   "source": [
    "class GradientBoostingRegressorScratch:\n",
    "    def __init__(self, n_estimators=100, learning_rate=0.1,\n",
    "                 max_depth=3, min_samples_leaf=5,\n",
    "                 min_impurity_decrease=1e-7, subsample=1.0,\n",
    "                 random_state=None):\n",
    "        self.n_estimators = n_estimators\n",
    "        self.lr = learning_rate\n",
    "        self.max_depth = max_depth\n",
    "        self.min_samples_leaf = min_samples_leaf\n",
    "        self.min_impurity_decrease = min_impurity_decrease\n",
    "        self.subsample = subsample\n",
    "        self.trees = []\n",
    "        self.init_pred = None\n",
    "        self.random_state = random_state\n",
    "\n",
    "    # --------------------------------------------------------------\n",
    "    def fit(self, X, y):\n",
    "        X, y = np.array(X), np.array(y)\n",
    "        rng = np.random.RandomState(self.random_state)\n",
    "\n",
    "        # Initial prediction: mean of y (optimal for MSE)\n",
    "        self.init_pred = np.mean(y)\n",
    "        F = np.full_like(y, self.init_pred, dtype=float)\n",
    "\n",
    "        for m in range(self.n_estimators):\n",
    "            # Negative gradient for MSE: residuals\n",
    "            residuals = y - F\n",
    "\n",
    "            # Subsample for stochastic gradient boosting\n",
    "            if self.subsample < 1.0:\n",
    "                idx = rng.choice(len(y), size=int(len(y) * self.subsample), replace=False)\n",
    "                X_sub, res_sub = X[idx], residuals[idx]\n",
    "            else:\n",
    "                X_sub, res_sub = X, residuals\n",
    "\n",
    "            # Fit a tree to residuals\n",
    "            tree = _build_tree(X_sub, res_sub,\n",
    "                               depth=0,\n",
    "                               max_depth=self.max_depth,\n",
    "                               min_samples_leaf=self.min_samples_leaf,\n",
    "                               min_impurity_decrease=self.min_impurity_decrease)\n",
    "            self.trees.append(tree)\n",
    "\n",
    "            # Update model\n",
    "            pred_tree = np.array([_predict_tree(tree, x) for x in X])\n",
    "            F += self.lr * pred_tree\n",
    "\n",
    "            # Optional: early stopping / diagnostics\n",
    "            if (m + 1) % 10 == 0:\n",
    "                loss = np.mean((y - F) ** 2)\n",
    "                print(f\"Iter {m+1}/{self.n_estimators} - MSE: {loss:.4f}\")\n",
    "\n",
    "    # --------------------------------------------------------------\n",
    "    def predict(self, X):\n",
    "        X = np.array(X)\n",
    "        F = np.full(X.shape[0], self.init_pred, dtype=float)\n",
    "        for tree in self.trees:\n",
    "            F += self.lr * np.array([_predict_tree(tree, x) for x in X])\n",
    "        return F"
   ]
  },
  {
   "cell_type": "markdown",
   "id": "c2c96fcb-fdf8-477a-a3fa-f876cbfd7509",
   "metadata": {},
   "source": [
    "# Test it"
   ]
  },
  {
   "cell_type": "code",
   "execution_count": 16,
   "id": "1d7006ae-c755-4354-8f7f-d38a7c5409aa",
   "metadata": {},
   "outputs": [
    {
     "name": "stdout",
     "output_type": "stream",
     "text": [
      "Iter 10/200 - MSE: 0.2512\n",
      "Iter 20/200 - MSE: 0.1052\n",
      "Iter 30/200 - MSE: 0.0505\n",
      "Iter 40/200 - MSE: 0.0302\n",
      "Iter 50/200 - MSE: 0.0216\n",
      "Iter 60/200 - MSE: 0.0175\n",
      "Iter 70/200 - MSE: 0.0154\n",
      "Iter 80/200 - MSE: 0.0141\n"
     ]
    },
    {
     "name": "stderr",
     "output_type": "stream",
     "text": [
      "/usr/local/lib/python3.12/dist-packages/numpy/_core/fromnumeric.py:3860: RuntimeWarning: Mean of empty slice.\n",
      "  return _methods._mean(a, axis=axis, dtype=dtype,\n",
      "/usr/local/lib/python3.12/dist-packages/numpy/_core/_methods.py:145: RuntimeWarning: invalid value encountered in scalar divide\n",
      "  ret = ret.dtype.type(ret / rcount)\n"
     ]
    },
    {
     "name": "stdout",
     "output_type": "stream",
     "text": [
      "Iter 90/200 - MSE: 0.0132\n",
      "Iter 100/200 - MSE: 0.0123\n",
      "Iter 110/200 - MSE: 0.0115\n",
      "Iter 120/200 - MSE: 0.0107\n",
      "Iter 130/200 - MSE: 0.0104\n",
      "Iter 140/200 - MSE: 0.0099\n",
      "Iter 150/200 - MSE: 0.0092\n",
      "Iter 160/200 - MSE: 0.0088\n",
      "Iter 170/200 - MSE: 0.0085\n",
      "Iter 180/200 - MSE: 0.0082\n",
      "Iter 190/200 - MSE: 0.0078\n",
      "Iter 200/200 - MSE: 0.0075\n",
      "RMSE on test set: 0.073\n"
     ]
    }
   ],
   "source": [
    "if __name__ == \"__main__\":\n",
    "    # ------------------------------\n",
    "    # Load a toy regression dataset\n",
    "    # ------------------------------\n",
    "    from sklearn.datasets import fetch_openml\n",
    "    from sklearn.preprocessing import LabelEncoder\n",
    "    X, y = fetch_openml('iris', version=1, return_X_y=True, as_frame=False)\n",
    "    le = LabelEncoder()\n",
    "    y = le.fit_transform(y)            # y becomes array of 0,1,2\n",
    "\n",
    "\n",
    "    # Train-test split\n",
    "    from sklearn.model_selection import train_test_split\n",
    "    X_train, X_test, y_train, y_test = train_test_split(\n",
    "        X, y, test_size=0.2, random_state=42\n",
    "    )\n",
    "\n",
    "    # ------------------------------\n",
    "    # Train our implementation\n",
    "    # ------------------------------\n",
    "    gbr = GradientBoostingRegressorScratch(\n",
    "        n_estimators=200,\n",
    "        learning_rate=0.05,\n",
    "        max_depth=3,\n",
    "        min_samples_leaf=5,\n",
    "        min_impurity_decrease=1e-7,\n",
    "        subsample=0.8,\n",
    "        random_state=0\n",
    "    )\n",
    "    gbr.fit(X_train, y_train)\n",
    "\n"
   ]
  },
  {
   "cell_type": "code",
   "execution_count": 20,
   "id": "ecbd181f-e7a6-4d53-ab96-1e5c88098e17",
   "metadata": {},
   "outputs": [],
   "source": [
    "import numpy as np\n",
    "import matplotlib.pyplot as plt\n",
    "from sklearn.datasets import load_breast_cancer\n",
    "from sklearn.model_selection import train_test_split\n",
    "from sklearn.metrics import roc_curve, auc\n",
    "\n",
    "# -------------------------------------------------------------\n",
    "# 1) Load data\n",
    "# -------------------------------------------------------------\n",
    "X, y = load_breast_cancer(return_X_y=True)      # 569 samples, 30 features\n",
    "X_train, X_test, y_train, y_test = train_test_split(\n",
    "    X, y, test_size=0.3, random_state=42, stratify=y)"
   ]
  },
  {
   "cell_type": "code",
   "execution_count": 21,
   "id": "c6d9f463-5176-4350-98d7-ab4d2e0f3f6c",
   "metadata": {},
   "outputs": [
    {
     "name": "stdout",
     "output_type": "stream",
     "text": [
      "Iter 10/300 - MSE: 0.0960\n",
      "Iter 20/300 - MSE: 0.0431\n",
      "Iter 30/300 - MSE: 0.0222\n",
      "Iter 40/300 - MSE: 0.0130\n",
      "Iter 50/300 - MSE: 0.0086\n",
      "Iter 60/300 - MSE: 0.0062\n",
      "Iter 70/300 - MSE: 0.0047\n",
      "Iter 80/300 - MSE: 0.0038\n",
      "Iter 90/300 - MSE: 0.0032\n",
      "Iter 100/300 - MSE: 0.0027\n",
      "Iter 110/300 - MSE: 0.0023\n",
      "Iter 120/300 - MSE: 0.0020\n",
      "Iter 130/300 - MSE: 0.0018\n",
      "Iter 140/300 - MSE: 0.0016\n",
      "Iter 150/300 - MSE: 0.0014\n",
      "Iter 160/300 - MSE: 0.0012\n",
      "Iter 170/300 - MSE: 0.0011\n",
      "Iter 180/300 - MSE: 0.0010\n",
      "Iter 190/300 - MSE: 0.0009\n",
      "Iter 200/300 - MSE: 0.0008\n",
      "Iter 210/300 - MSE: 0.0007\n",
      "Iter 220/300 - MSE: 0.0006\n",
      "Iter 230/300 - MSE: 0.0005\n",
      "Iter 240/300 - MSE: 0.0005\n",
      "Iter 250/300 - MSE: 0.0004\n",
      "Iter 260/300 - MSE: 0.0004\n",
      "Iter 270/300 - MSE: 0.0003\n",
      "Iter 280/300 - MSE: 0.0003\n",
      "Iter 290/300 - MSE: 0.0003\n",
      "Iter 300/300 - MSE: 0.0002\n"
     ]
    },
    {
     "data": {
      "image/png": "[encoded data removed]",
      "text/plain": [
       "<Figure size 600x600 with 1 Axes>"
      ]
     },
     "metadata": {},
     "output_type": "display_data"
    }
   ],
   "source": [
    "gbr = GradientBoostingRegressorScratch(\n",
    "    n_estimators=300,\n",
    "    learning_rate=0.05,\n",
    "    max_depth=4,\n",
    "    min_samples_leaf=5,\n",
    "    subsample=0.9,\n",
    "    random_state=0\n",
    ")\n",
    "gbr.fit(X_train, y_train)\n",
    "\n",
    "# -------------------------------------------------------------\n",
    "# 4) Get scores (the raw output of the ensemble)\n",
    "# -------------------------------------------------------------\n",
    "scores = gbr.predict(X_test)   # higher → more likely class 1\n",
    "\n",
    "# -------------------------------------------------------------\n",
    "# 5) Compute ROC curve & AUC\n",
    "# -------------------------------------------------------------\n",
    "fpr, tpr, thresholds = roc_curve(y_test, scores)\n",
    "roc_auc = auc(fpr, tpr)\n",
    "\n",
    "# -------------------------------------------------------------\n",
    "# 6) Plot\n",
    "# -------------------------------------------------------------\n",
    "plt.figure(figsize=(6,6))\n",
    "plt.plot(fpr, tpr, color='darkorange',\n",
    "         lw=2, label=f'ROC curve (AUC = {roc_auc:.3f})')\n",
    "plt.plot([0, 1], [0, 1], color='navy', lw=1, linestyle='--')\n",
    "plt.xlim([0.0, 1.0])\n",
    "plt.ylim([0.0, 1.05])\n",
    "plt.xlabel('False Positive Rate')\n",
    "plt.ylabel('True Positive Rate')\n",
    "plt.title('ROC Curve – Gradient Boosting (from scratch)')\n",
    "plt.legend(loc=\"lower right\")\n",
    "plt.grid(alpha=0.3)\n",
    "plt.show()"
   ]
  },
  {
   "cell_type": "code",
   "execution_count": null,
   "id": "b6d695bb-aa9f-45b0-9aaa-86b012207894",
   "metadata": {},
   "outputs": [],
   "source": []
  }
 ],
 "metadata": {
  "kernelspec": {
   "display_name": "Python 3 (ipykernel)",
   "language": "python",
   "name": "python3"
  },
  "language_info": {
   "codemirror_mode": {
    "name": "ipython",
    "version": 3
   },
   "file_extension": ".py",
   "mimetype": "text/x-python",
   "name": "python",
   "nbconvert_exporter": "python",
   "pygments_lexer": "ipython3",
   "version": "3.12.3"
  }
 },
 "nbformat": 4,
 "nbformat_minor": 5
}
